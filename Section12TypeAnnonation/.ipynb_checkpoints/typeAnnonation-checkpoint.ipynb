{
 "cells": [
  {
   "cell_type": "markdown",
   "id": "4d822c77-0519-4150-89b5-5e64014605fd",
   "metadata": {},
   "source": [
    "Type Annonation is used for increasing the readibility of the code."
   ]
  },
  {
   "cell_type": "markdown",
   "id": "71382994-7249-4f0f-8f83-d41199f558d8",
   "metadata": {},
   "source": [
    "Usually used in functions to help people understand what kind of inputs they need"
   ]
  },
  {
   "cell_type": "code",
   "execution_count": 8,
   "id": "43b7da97-b1a0-478d-b2e9-976063dfd589",
   "metadata": {},
   "outputs": [],
   "source": [
    "name : str = \"Yusuf\"\n",
    "age : int = 19\n",
    "is_student : bool = True"
   ]
  },
  {
   "cell_type": "code",
   "execution_count": 9,
   "id": "ef76758f-3df7-4602-ac08-3996bfe911c1",
   "metadata": {},
   "outputs": [],
   "source": [
    "def addNumbers(a : int, b : int) -> int:\n",
    "    return a + b"
   ]
  },
  {
   "cell_type": "code",
   "execution_count": 10,
   "id": "df36c6e9-a3bf-4707-8e10-a9fdea47451c",
   "metadata": {},
   "outputs": [
    {
     "data": {
      "text/plain": [
       "8"
      ]
     },
     "execution_count": 10,
     "metadata": {},
     "output_type": "execute_result"
    }
   ],
   "source": [
    "addNumbers(3, 5)"
   ]
  },
  {
   "cell_type": "code",
   "execution_count": 11,
   "id": "9d579844-799d-4645-8a74-50a5bf1fb6d4",
   "metadata": {},
   "outputs": [],
   "source": [
    "def processValue(value: int | str) -> str:\n",
    "    if isinstance(value, int):\n",
    "        return f\"processed integer: {value}\"\n",
    "    else: \n",
    "        return f\"processed string: {value}\""
   ]
  },
  {
   "cell_type": "code",
   "execution_count": 12,
   "id": "3308cb60-52e9-4582-b308-105d9051ac66",
   "metadata": {},
   "outputs": [
    {
     "data": {
      "text/plain": [
       "'processed integer: 5'"
      ]
     },
     "execution_count": 12,
     "metadata": {},
     "output_type": "execute_result"
    }
   ],
   "source": [
    "processValue(5)"
   ]
  },
  {
   "cell_type": "code",
   "execution_count": 13,
   "id": "fea2084a-de45-4851-a8a6-da4e8c318ff2",
   "metadata": {},
   "outputs": [
    {
     "data": {
      "text/plain": [
       "'processed string: Selam'"
      ]
     },
     "execution_count": 13,
     "metadata": {},
     "output_type": "execute_result"
    }
   ],
   "source": [
    "processValue(\"Selam\")"
   ]
  },
  {
   "cell_type": "code",
   "execution_count": 14,
   "id": "f938a052-4be2-4a8d-b895-bf3d091874ae",
   "metadata": {},
   "outputs": [
    {
     "data": {
      "text/plain": [
       "'processed string: [10, 20, 30]'"
      ]
     },
     "execution_count": 14,
     "metadata": {},
     "output_type": "execute_result"
    }
   ],
   "source": [
    "processValue([10, 20, 30])"
   ]
  },
  {
   "cell_type": "code",
   "execution_count": 16,
   "id": "53d43fe5-12b6-4819-9bf1-096b9598b62a",
   "metadata": {},
   "outputs": [],
   "source": [
    "from typing import List\n",
    "def sumList(numbers : List[int]) -> int:\n",
    "    return sum(numbers)"
   ]
  },
  {
   "cell_type": "code",
   "execution_count": 17,
   "id": "7a36769b-da25-4b7a-816f-cc15aa03d1d7",
   "metadata": {},
   "outputs": [
    {
     "data": {
      "text/plain": [
       "13"
      ]
     },
     "execution_count": 17,
     "metadata": {},
     "output_type": "execute_result"
    }
   ],
   "source": [
    "sumList([1, 5, 7])"
   ]
  },
  {
   "cell_type": "code",
   "execution_count": null,
   "id": "5eb70bb1-4724-4e01-b240-9c85e040b356",
   "metadata": {},
   "outputs": [],
   "source": []
  }
 ],
 "metadata": {
  "kernelspec": {
   "display_name": "Python 3 (ipykernel)",
   "language": "python",
   "name": "python3"
  },
  "language_info": {
   "codemirror_mode": {
    "name": "ipython",
    "version": 3
   },
   "file_extension": ".py",
   "mimetype": "text/x-python",
   "name": "python",
   "nbconvert_exporter": "python",
   "pygments_lexer": "ipython3",
   "version": "3.13.5"
  }
 },
 "nbformat": 4,
 "nbformat_minor": 5
}
