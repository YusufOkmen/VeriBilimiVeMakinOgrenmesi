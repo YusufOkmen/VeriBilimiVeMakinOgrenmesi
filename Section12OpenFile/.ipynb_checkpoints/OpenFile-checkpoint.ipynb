{
 "cells": [
  {
   "cell_type": "code",
   "execution_count": 23,
   "id": "8e272d02-ee0f-455c-8763-a4186ea69c8b",
   "metadata": {},
   "outputs": [
    {
     "name": "stdout",
     "output_type": "stream",
     "text": [
      "Overwriting myfile.txt\n"
     ]
    }
   ],
   "source": [
    "%%writefile myfile.txt\n",
    "test 1\n",
    "test 2\n",
    "test 3"
   ]
  },
  {
   "cell_type": "code",
   "execution_count": 32,
   "id": "ea673391-48c6-43d1-bc00-82d9ea22011a",
   "metadata": {},
   "outputs": [],
   "source": [
    "myFile = open(\"myfile.txt\")"
   ]
  },
  {
   "cell_type": "code",
   "execution_count": 25,
   "id": "3ea2f9d7-3678-4a5e-9dbb-72d4dd75483d",
   "metadata": {},
   "outputs": [
    {
     "data": {
      "text/plain": [
       "_io.TextIOWrapper"
      ]
     },
     "execution_count": 25,
     "metadata": {},
     "output_type": "execute_result"
    }
   ],
   "source": [
    "type(myFile)"
   ]
  },
  {
   "cell_type": "code",
   "execution_count": 26,
   "id": "ca7fa6d9-2ba7-4c92-9cc7-433fda2fffdd",
   "metadata": {},
   "outputs": [
    {
     "data": {
      "text/plain": [
       "'test 1\\ntest 2\\ntest 3\\n'"
      ]
     },
     "execution_count": 26,
     "metadata": {},
     "output_type": "execute_result"
    }
   ],
   "source": [
    "myFile.read()"
   ]
  },
  {
   "cell_type": "code",
   "execution_count": 27,
   "id": "acbc8293-d4f9-4989-a385-a4c2539f8d84",
   "metadata": {},
   "outputs": [
    {
     "data": {
      "text/plain": [
       "''"
      ]
     },
     "execution_count": 27,
     "metadata": {},
     "output_type": "execute_result"
    }
   ],
   "source": [
    "myFile.read()"
   ]
  },
  {
   "cell_type": "code",
   "execution_count": 28,
   "id": "81568b17-bca7-4343-a91d-a5af4f2a505e",
   "metadata": {},
   "outputs": [
    {
     "data": {
      "text/plain": [
       "0"
      ]
     },
     "execution_count": 28,
     "metadata": {},
     "output_type": "execute_result"
    }
   ],
   "source": [
    "myFile.seek(0)"
   ]
  },
  {
   "cell_type": "code",
   "execution_count": 29,
   "id": "9a1a9545-b7c8-4de4-a904-fde3c42e8509",
   "metadata": {},
   "outputs": [
    {
     "data": {
      "text/plain": [
       "'test 1\\ntest 2\\ntest 3\\n'"
      ]
     },
     "execution_count": 29,
     "metadata": {},
     "output_type": "execute_result"
    }
   ],
   "source": [
    "myFile.read()"
   ]
  },
  {
   "cell_type": "code",
   "execution_count": 30,
   "id": "c23ab20f-bc16-4234-a1c2-d84c500a4755",
   "metadata": {},
   "outputs": [],
   "source": [
    "myFile.close()"
   ]
  },
  {
   "cell_type": "code",
   "execution_count": null,
   "id": "f8e51ab6-72b3-42b3-be79-c059955e4a42",
   "metadata": {},
   "outputs": [],
   "source": []
  },
  {
   "cell_type": "code",
   "execution_count": 33,
   "id": "b5ea34fa-28ae-4715-9919-11c8f561d56f",
   "metadata": {},
   "outputs": [],
   "source": [
    "with open(\"myFile.txt\") as txtFile:\n",
    "    fileReader = myFile.read()\n",
    "    "
   ]
  },
  {
   "cell_type": "code",
   "execution_count": 34,
   "id": "5f51f7e8-f127-4146-8288-fb0f7ca595a8",
   "metadata": {},
   "outputs": [
    {
     "data": {
      "text/plain": [
       "'test 1\\ntest 2\\ntest 3\\n'"
      ]
     },
     "execution_count": 34,
     "metadata": {},
     "output_type": "execute_result"
    }
   ],
   "source": [
    "fileReader"
   ]
  },
  {
   "cell_type": "code",
   "execution_count": 35,
   "id": "b11e095f-e6be-4373-a020-4f818b8d22b5",
   "metadata": {},
   "outputs": [
    {
     "data": {
      "text/plain": [
       "'test 1\\ntest 2\\ntest 3\\n'"
      ]
     },
     "execution_count": 35,
     "metadata": {},
     "output_type": "execute_result"
    }
   ],
   "source": [
    "fileReader"
   ]
  },
  {
   "cell_type": "code",
   "execution_count": 36,
   "id": "db21be88-2db8-4190-9403-b051f7bfa948",
   "metadata": {},
   "outputs": [],
   "source": [
    "with open(\"myFile.txt\", mode=\"w\") as writeMyFile:\n",
    "    writeMyFile.write(\"test4\")"
   ]
  },
  {
   "cell_type": "code",
   "execution_count": 38,
   "id": "ea88111e-494b-4449-a751-875de54652f0",
   "metadata": {},
   "outputs": [
    {
     "data": {
      "text/plain": [
       "<_io.TextIOWrapper name='myFile.txt' mode='w' encoding='cp1254'>"
      ]
     },
     "execution_count": 38,
     "metadata": {},
     "output_type": "execute_result"
    }
   ],
   "source": [
    "writeMyFile"
   ]
  },
  {
   "cell_type": "code",
   "execution_count": 39,
   "id": "d3398b26-d6cf-4574-8c8b-7e93675619cf",
   "metadata": {},
   "outputs": [],
   "source": [
    "with open(\"myFile.txt\", mode=\"r\") as readMyFile:\n",
    "    myContent= readMyFile.read()"
   ]
  },
  {
   "cell_type": "code",
   "execution_count": 40,
   "id": "0a6a162b-0e88-4ac1-a826-584a26e96b86",
   "metadata": {},
   "outputs": [
    {
     "data": {
      "text/plain": [
       "'test4'"
      ]
     },
     "execution_count": 40,
     "metadata": {},
     "output_type": "execute_result"
    }
   ],
   "source": [
    "myContent"
   ]
  },
  {
   "cell_type": "code",
   "execution_count": 42,
   "id": "53d72f98-77ec-45a6-8044-54eb7be40188",
   "metadata": {},
   "outputs": [],
   "source": [
    "with open(\"myFile.txt\", mode=\"a\") as addToMyFile:\n",
    "    addToMyFile.write(\"test5\")"
   ]
  },
  {
   "cell_type": "code",
   "execution_count": 43,
   "id": "396ddfda-78bf-40d1-ac22-716f1e734c48",
   "metadata": {},
   "outputs": [],
   "source": [
    "with open(\"myFile.txt\", mode=\"r\") as readMyFile:\n",
    "    myContent= readMyFile.read()"
   ]
  },
  {
   "cell_type": "code",
   "execution_count": 44,
   "id": "97bdedb4-2fb2-4cbe-af6f-819cb7e53b74",
   "metadata": {},
   "outputs": [
    {
     "data": {
      "text/plain": [
       "'test4test5'"
      ]
     },
     "execution_count": 44,
     "metadata": {},
     "output_type": "execute_result"
    }
   ],
   "source": [
    "myContent"
   ]
  },
  {
   "cell_type": "markdown",
   "id": "c17ca4bd-8bdf-4474-a821-8a780fb0a132",
   "metadata": {},
   "source": [
    " w -> Write , a -> append , r -> read"
   ]
  },
  {
   "cell_type": "code",
   "execution_count": null,
   "id": "0551ce27-14d0-410b-9051-5bf99dbffd3f",
   "metadata": {},
   "outputs": [],
   "source": []
  }
 ],
 "metadata": {
  "kernelspec": {
   "display_name": "Python 3 (ipykernel)",
   "language": "python",
   "name": "python3"
  },
  "language_info": {
   "codemirror_mode": {
    "name": "ipython",
    "version": 3
   },
   "file_extension": ".py",
   "mimetype": "text/x-python",
   "name": "python",
   "nbconvert_exporter": "python",
   "pygments_lexer": "ipython3",
   "version": "3.13.5"
  }
 },
 "nbformat": 4,
 "nbformat_minor": 5
}
