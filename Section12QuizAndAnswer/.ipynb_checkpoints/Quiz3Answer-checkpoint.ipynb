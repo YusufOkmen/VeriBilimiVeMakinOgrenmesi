{
 "cells": [
  {
   "cell_type": "code",
   "execution_count": null,
   "id": "6a8c8e90-23f9-4f07-bd15-f86e753aa392",
   "metadata": {},
   "outputs": [],
   "source": [
    "#Answer-1"
   ]
  },
  {
   "cell_type": "code",
   "execution_count": 2,
   "id": "52ef5612-1ab9-4821-8a29-225684bbd41d",
   "metadata": {},
   "outputs": [],
   "source": [
    "def toplama(a,b):\n",
    "    print(a,b)"
   ]
  },
  {
   "cell_type": "code",
   "execution_count": 4,
   "id": "f36aec8b-3b5c-45e8-bbf8-718d40cb80bf",
   "metadata": {},
   "outputs": [
    {
     "name": "stdout",
     "output_type": "stream",
     "text": [
      "3 4\n",
      "None\n"
     ]
    }
   ],
   "source": [
    "\n",
    "x = toplama(3,4)\n",
    "print(x)\n"
   ]
  },
  {
   "cell_type": "code",
   "execution_count": 5,
   "id": "28872147-bf9b-4ceb-9bb7-a9a1864c3f4e",
   "metadata": {},
   "outputs": [],
   "source": [
    "#Answer-2"
   ]
  },
  {
   "cell_type": "code",
   "execution_count": 6,
   "id": "2757614f-b768-4659-b59b-c6e52a787855",
   "metadata": {},
   "outputs": [],
   "source": [
    "def usselIslem(x=5,y=3):#default parameters are x = 5, y = 3\n",
    "    print(x ** y)"
   ]
  },
  {
   "cell_type": "code",
   "execution_count": 9,
   "id": "e8bafdca-c304-48f5-8e4d-86f2a3e1e2dd",
   "metadata": {},
   "outputs": [
    {
     "name": "stdout",
     "output_type": "stream",
     "text": [
      "4096\n"
     ]
    }
   ],
   "source": [
    "usselIslem(4, 6)"
   ]
  },
  {
   "cell_type": "code",
   "execution_count": 10,
   "id": "0cf380e2-a7c0-4a69-b365-0fbe78a2d800",
   "metadata": {},
   "outputs": [],
   "source": [
    "#Answer-3"
   ]
  },
  {
   "cell_type": "code",
   "execution_count": 11,
   "id": "b9934f3a-e1ab-4d33-bcb9-007808d3aad9",
   "metadata": {},
   "outputs": [
    {
     "name": "stdout",
     "output_type": "stream",
     "text": [
      "125\n"
     ]
    }
   ],
   "source": [
    "usselIslem()"
   ]
  },
  {
   "cell_type": "code",
   "execution_count": 12,
   "id": "16c0efb9-07e1-44d3-bbc8-3fc6a7afd449",
   "metadata": {},
   "outputs": [],
   "source": [
    "#Answer-4"
   ]
  },
  {
   "cell_type": "code",
   "execution_count": 13,
   "id": "549ef48b-9e58-42ea-8c59-9483870533ef",
   "metadata": {},
   "outputs": [],
   "source": [
    "def myLoop(*args):# *args = plural arguments can given\n",
    "    for element in args:\n",
    "        print(element / 2)"
   ]
  },
  {
   "cell_type": "code",
   "execution_count": 14,
   "id": "7d2e2e69-5c5d-4da0-8946-8dd2c7e3105d",
   "metadata": {},
   "outputs": [
    {
     "name": "stdout",
     "output_type": "stream",
     "text": [
      "1.5\n",
      "1.0\n",
      "0.5\n",
      "2.5\n",
      "1.5\n",
      "2.0\n"
     ]
    }
   ],
   "source": [
    "myLoop(3,2,1,5,3,4)"
   ]
  },
  {
   "cell_type": "code",
   "execution_count": 15,
   "id": "c228c77e-a384-4723-8e86-867db5328531",
   "metadata": {},
   "outputs": [],
   "source": [
    "#Answer-5"
   ]
  },
  {
   "cell_type": "code",
   "execution_count": 16,
   "id": "27dbe491-dc4f-434e-b12d-7e241f16c798",
   "metadata": {},
   "outputs": [],
   "source": [
    "def myFunc(num):\n",
    "    return num ** 3"
   ]
  },
  {
   "cell_type": "code",
   "execution_count": 17,
   "id": "d85bb696-3868-4a03-9a7a-7cfe35d117f9",
   "metadata": {},
   "outputs": [],
   "source": [
    "myList = [2,3,4,5,6]"
   ]
  },
  {
   "cell_type": "code",
   "execution_count": 18,
   "id": "d0a5057d-b955-4538-9100-a62b8882cf1b",
   "metadata": {},
   "outputs": [],
   "source": [
    "newList = []\n",
    "for number in myList:\n",
    "    newNumber = myFunc(number)\n",
    "    newList.append(newNumber)"
   ]
  },
  {
   "cell_type": "code",
   "execution_count": 19,
   "id": "48f27681-2910-4ea8-b0a8-8f658c8f26c0",
   "metadata": {},
   "outputs": [
    {
     "name": "stdout",
     "output_type": "stream",
     "text": [
      "[8, 27, 64, 125, 216]\n"
     ]
    }
   ],
   "source": [
    "print(newList)"
   ]
  },
  {
   "cell_type": "code",
   "execution_count": 20,
   "id": "1ef9b431-9f97-4a5a-8af7-34eceb5a6bb7",
   "metadata": {},
   "outputs": [],
   "source": [
    "#Answer-6"
   ]
  },
  {
   "cell_type": "code",
   "execution_count": 21,
   "id": "f80b0341-5929-4756-ac78-8c45224648a8",
   "metadata": {},
   "outputs": [],
   "source": [
    "barkodDizisi = [\"ABC231\",\"SA3123XYZ\",\"XYZA123Q\",\"QRE1231KJ\",\"X112QGL\"]"
   ]
  },
  {
   "cell_type": "code",
   "execution_count": 23,
   "id": "a4d99d7c-6670-4a4a-9044-9940e60391d3",
   "metadata": {},
   "outputs": [],
   "source": [
    "yeniBarkodDizisi = []\n",
    "for barkod in barkodDizisi:\n",
    "    if \"XYZ\" in barkod:\n",
    "        yeniBarkodDizisi.append(barkod)"
   ]
  },
  {
   "cell_type": "code",
   "execution_count": 24,
   "id": "5bb775ae-d97f-4316-bbd3-b9bb6e1b8136",
   "metadata": {},
   "outputs": [
    {
     "name": "stdout",
     "output_type": "stream",
     "text": [
      "['SA3123XYZ', 'XYZA123Q']\n"
     ]
    }
   ],
   "source": [
    "print(yeniBarkodDizisi)"
   ]
  },
  {
   "cell_type": "code",
   "execution_count": 25,
   "id": "5ac4245a-3f92-48ca-b669-fc18bff6d603",
   "metadata": {},
   "outputs": [],
   "source": [
    "#Anwer-7"
   ]
  },
  {
   "cell_type": "code",
   "execution_count": 26,
   "id": "018b397d-2aa0-402a-8e4a-7571b785dfc6",
   "metadata": {},
   "outputs": [],
   "source": [
    "myVar = \"Atil Samancioglu\"\n",
    "\n",
    "def ornekFonksiyon():\n",
    "    myVar = \"Atil\"\n",
    "    \n",
    "    def digerFonksiyon():\n",
    "        print(myVar)\n",
    "    \n",
    "    digerFonksiyon()"
   ]
  },
  {
   "cell_type": "code",
   "execution_count": 27,
   "id": "47d6fcbf-0aee-43cd-94c8-d155cfc21887",
   "metadata": {},
   "outputs": [
    {
     "name": "stdout",
     "output_type": "stream",
     "text": [
      "Atil\n"
     ]
    }
   ],
   "source": [
    "ornekFonksiyon()"
   ]
  },
  {
   "cell_type": "code",
   "execution_count": 28,
   "id": "b2deacb5-bb7d-4088-89a7-806d90e371e7",
   "metadata": {},
   "outputs": [],
   "source": [
    "#Anwer-8"
   ]
  },
  {
   "cell_type": "code",
   "execution_count": 29,
   "id": "a05aebe1-57bb-45d8-9250-8f57e2166d79",
   "metadata": {},
   "outputs": [],
   "source": [
    "class Kedi():\n",
    "        \n",
    "    def __init__(self,isim,yas=5):\n",
    "        self.isim = isim\n",
    "        self.yas = yas\n",
    "        \n",
    "    def yasiCarp(self):\n",
    "        return self.yas * 3"
   ]
  },
  {
   "cell_type": "markdown",
   "id": "6a2fec99-3370-47b2-aad7-326ac330e95c",
   "metadata": {},
   "source": [
    "kedi = Kedi(\"Tonton\")"
   ]
  },
  {
   "cell_type": "code",
   "execution_count": 31,
   "id": "1a299c73-9f1d-4618-b0be-99b2e5a38980",
   "metadata": {},
   "outputs": [
    {
     "data": {
      "text/plain": [
       "15"
      ]
     },
     "execution_count": 31,
     "metadata": {},
     "output_type": "execute_result"
    }
   ],
   "source": [
    "kedi.yasiCarp()"
   ]
  },
  {
   "cell_type": "code",
   "execution_count": 32,
   "id": "760d3fa3-e4cf-4415-8c7d-e7955145ccf7",
   "metadata": {},
   "outputs": [],
   "source": [
    "#Answer-9"
   ]
  },
  {
   "cell_type": "code",
   "execution_count": 33,
   "id": "295650ef-bbf8-4301-8d8c-67ab0c9bdf8d",
   "metadata": {},
   "outputs": [],
   "source": [
    "class Ogrenci():\n",
    "    \n",
    "    def __init__(self,isim,sinavNotu):\n",
    "        self.isim = isim\n",
    "        self.__sinavNotu = sinavNotu\n",
    "    \n",
    "    def notuGoster(self):\n",
    "        print(f\"{self.isim} sınav notu: {self.__sinavNotu}\")"
   ]
  },
  {
   "cell_type": "code",
   "execution_count": 34,
   "id": "839294e9-31e9-4558-b389-15cd03d4fb61",
   "metadata": {},
   "outputs": [],
   "source": [
    "ogrenci = Ogrenci(\"Mehmet\",85)"
   ]
  },
  {
   "cell_type": "code",
   "execution_count": 36,
   "id": "ecab5915-3d5e-40df-9d3a-b18530c6ac3b",
   "metadata": {},
   "outputs": [],
   "source": [
    "ogrenci.__sinavNotu = 75 #Does not change anything because this property is encapsulated in class."
   ]
  },
  {
   "cell_type": "code",
   "execution_count": 37,
   "id": "717ad8ad-0915-4cb6-8cdd-360f75d332f0",
   "metadata": {},
   "outputs": [
    {
     "name": "stdout",
     "output_type": "stream",
     "text": [
      "Mehmet sınav notu: 85\n"
     ]
    }
   ],
   "source": [
    "ogrenci.notuGoster()"
   ]
  },
  {
   "cell_type": "code",
   "execution_count": 38,
   "id": "e3eccb71-1db2-4816-a3f1-170b297a269a",
   "metadata": {},
   "outputs": [],
   "source": [
    "#Answer-10"
   ]
  },
  {
   "cell_type": "code",
   "execution_count": null,
   "id": "a48434db-06d3-4dcf-b34e-dd7c42f82b46",
   "metadata": {},
   "outputs": [],
   "source": [
    "Abstraction"
   ]
  }
 ],
 "metadata": {
  "kernelspec": {
   "display_name": "Python 3 (ipykernel)",
   "language": "python",
   "name": "python3"
  },
  "language_info": {
   "codemirror_mode": {
    "name": "ipython",
    "version": 3
   },
   "file_extension": ".py",
   "mimetype": "text/x-python",
   "name": "python",
   "nbconvert_exporter": "python",
   "pygments_lexer": "ipython3",
   "version": "3.13.5"
  }
 },
 "nbformat": 4,
 "nbformat_minor": 5
}
