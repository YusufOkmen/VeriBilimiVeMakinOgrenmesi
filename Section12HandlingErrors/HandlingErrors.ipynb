{
 "cells": [
  {
   "cell_type": "markdown",
   "id": "4a086816-d3a3-4df1-bee2-754455612798",
   "metadata": {},
   "source": [
    "Try - Except"
   ]
  },
  {
   "cell_type": "code",
   "execution_count": 2,
   "id": "d9effd8a-6c38-46fb-8e0f-f8528619f2fd",
   "metadata": {},
   "outputs": [
    {
     "name": "stdin",
     "output_type": "stream",
     "text": [
      "Please enter your age:  fd\n"
     ]
    },
    {
     "name": "stdout",
     "output_type": "stream",
     "text": [
      "Enter you age!!\n"
     ]
    },
    {
     "name": "stdin",
     "output_type": "stream",
     "text": [
      "Please enter your age:  23\n"
     ]
    },
    {
     "name": "stdout",
     "output_type": "stream",
     "text": [
      "46\n",
      "else executed\n"
     ]
    }
   ],
   "source": [
    "while True:#1==1 \n",
    "    try:\n",
    "        myAge = int(input(\"Please enter your age: \"))\n",
    "        print(myAge * 2)\n",
    "    except ValueError:\n",
    "        print(\"Enter you age!!\")\n",
    "    else: \n",
    "        print(\"else executed\")\n",
    "        break"
   ]
  },
  {
   "cell_type": "code",
   "execution_count": null,
   "id": "20dae494-b9dd-42b4-9c27-dd1d906da91c",
   "metadata": {},
   "outputs": [],
   "source": []
  },
  {
   "cell_type": "code",
   "execution_count": null,
   "id": "7f0041fb-24cd-4d22-9a09-91d2408e09e7",
   "metadata": {},
   "outputs": [],
   "source": []
  }
 ],
 "metadata": {
  "kernelspec": {
   "display_name": "Python 3 (ipykernel)",
   "language": "python",
   "name": "python3"
  },
  "language_info": {
   "codemirror_mode": {
    "name": "ipython",
    "version": 3
   },
   "file_extension": ".py",
   "mimetype": "text/x-python",
   "name": "python",
   "nbconvert_exporter": "python",
   "pygments_lexer": "ipython3",
   "version": "3.13.5"
  }
 },
 "nbformat": 4,
 "nbformat_minor": 5
}
