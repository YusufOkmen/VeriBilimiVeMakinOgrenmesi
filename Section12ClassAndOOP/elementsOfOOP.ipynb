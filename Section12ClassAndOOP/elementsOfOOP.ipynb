{
 "cells": [
  {
   "cell_type": "markdown",
   "id": "ee4f4137-02e8-4d4d-a2af-ccfe6993da1c",
   "metadata": {},
   "source": [
    "Inheritance"
   ]
  },
  {
   "cell_type": "code",
   "execution_count": 10,
   "id": "b0953659-7f37-4de7-a925-5a781a66bb38",
   "metadata": {},
   "outputs": [],
   "source": [
    "class Musician():\n",
    "    def __init__(self, name):   # dikkat: iki alt çizgi __init__\n",
    "        self.name = name\n",
    "        print(\"musician class\")\n",
    "\n",
    "    def test1(self):\n",
    "        print(\"test1\")\n",
    "\n",
    "    def test2(self):\n",
    "        print(\"test2\")"
   ]
  },
  {
   "cell_type": "code",
   "execution_count": 11,
   "id": "d56a2f45-43c1-45a4-8fa5-452d149f985a",
   "metadata": {},
   "outputs": [
    {
     "name": "stdout",
     "output_type": "stream",
     "text": [
      "musician class\n"
     ]
    }
   ],
   "source": [
    "yusuf = Musician(\"Yusuf\")"
   ]
  },
  {
   "cell_type": "code",
   "execution_count": 12,
   "id": "2faf7a96-d1d6-4f38-82db-00a331de7425",
   "metadata": {},
   "outputs": [
    {
     "data": {
      "text/plain": [
       "'Yusuf'"
      ]
     },
     "execution_count": 12,
     "metadata": {},
     "output_type": "execute_result"
    }
   ],
   "source": [
    "yusuf.name"
   ]
  },
  {
   "cell_type": "code",
   "execution_count": 13,
   "id": "dcfe62a1-006c-4fd4-aa4c-5d7b1adac896",
   "metadata": {},
   "outputs": [
    {
     "name": "stdout",
     "output_type": "stream",
     "text": [
      "test1\n"
     ]
    }
   ],
   "source": [
    "yusuf.test1()"
   ]
  },
  {
   "cell_type": "code",
   "execution_count": 14,
   "id": "fe709421-a93b-41be-9fce-4de85c75f9e7",
   "metadata": {},
   "outputs": [
    {
     "name": "stdout",
     "output_type": "stream",
     "text": [
      "test2\n"
     ]
    }
   ],
   "source": [
    "yusuf.test2()"
   ]
  },
  {
   "cell_type": "code",
   "execution_count": 28,
   "id": "333c298f-b435-4697-bc04-6f60406c74ed",
   "metadata": {},
   "outputs": [],
   "source": [
    "class MusicianPlus(Musician):\n",
    "\n",
    "    def __init__(self, name):\n",
    "        Musician.__init__(self, name)\n",
    "        print(\"musician plus\")    \n",
    "\n",
    "    def test3(self):\n",
    "        print(\"test3\")\n",
    "\n",
    "    #override\n",
    "    def test1(self):\n",
    "        print(\"test1 plus\")"
   ]
  },
  {
   "cell_type": "code",
   "execution_count": 29,
   "id": "17f40ea2-4a62-4837-b51d-4825f457caaf",
   "metadata": {},
   "outputs": [
    {
     "name": "stdout",
     "output_type": "stream",
     "text": [
      "musician class\n",
      "musician plus\n"
     ]
    }
   ],
   "source": [
    "abdullah = MusicianPlus(\"Abdullah\")"
   ]
  },
  {
   "cell_type": "code",
   "execution_count": 30,
   "id": "ea00ee6f-ef5d-403a-8952-f1d4fc6f227d",
   "metadata": {},
   "outputs": [
    {
     "name": "stdout",
     "output_type": "stream",
     "text": [
      "test2\n"
     ]
    }
   ],
   "source": [
    "abdullah.test2()"
   ]
  },
  {
   "cell_type": "code",
   "execution_count": 33,
   "id": "e91c221f-5bdd-4126-a04b-02988a66689a",
   "metadata": {},
   "outputs": [
    {
     "name": "stdout",
     "output_type": "stream",
     "text": [
      "test1 plus\n"
     ]
    }
   ],
   "source": [
    "abdullah.test1()"
   ]
  },
  {
   "cell_type": "code",
   "execution_count": 34,
   "id": "68efe8eb-1333-422a-8655-855d7fb5707a",
   "metadata": {},
   "outputs": [
    {
     "name": "stdout",
     "output_type": "stream",
     "text": [
      "test3\n"
     ]
    }
   ],
   "source": [
    "abdullah.test3()"
   ]
  },
  {
   "cell_type": "code",
   "execution_count": 35,
   "id": "e01f63eb-e2b8-4bff-9e7b-e7d9036c770e",
   "metadata": {},
   "outputs": [
    {
     "name": "stdout",
     "output_type": "stream",
     "text": [
      "test1\n"
     ]
    }
   ],
   "source": [
    "yusuf.test1()"
   ]
  },
  {
   "cell_type": "markdown",
   "id": "d8d71cdc-b81a-40fc-821f-896573ff9f82",
   "metadata": {},
   "source": [
    "Polymorphism"
   ]
  },
  {
   "cell_type": "code",
   "execution_count": 47,
   "id": "6e84a4b5-1acc-420f-bf83-02b6492ade80",
   "metadata": {},
   "outputs": [],
   "source": [
    "class Banana():\n",
    "    def __init__(self, name):\n",
    "        self.name = name\n",
    "\n",
    "    def info(self):\n",
    "        return f\"{self.name} 150 calories\"\n",
    "\n",
    "class Apple():\n",
    "    def __init__(self, name):\n",
    "        self.name = name\n",
    "\n",
    "    def info(self):\n",
    "        return f\"{self.name} 100 calories\"\n",
    "    "
   ]
  },
  {
   "cell_type": "code",
   "execution_count": 48,
   "id": "643af801-4ca9-491f-bae7-181c495c078b",
   "metadata": {},
   "outputs": [],
   "source": [
    "banana = Banana(\"banana\")"
   ]
  },
  {
   "cell_type": "code",
   "execution_count": 49,
   "id": "b4fd2da7-abb1-480d-b35f-1c0801e99f58",
   "metadata": {},
   "outputs": [],
   "source": [
    "apple = Apple(\"apple\")"
   ]
  },
  {
   "cell_type": "code",
   "execution_count": 50,
   "id": "0d76a19e-ad21-4950-9ad5-97373555473e",
   "metadata": {},
   "outputs": [],
   "source": [
    "fruitList = [apple, banana]"
   ]
  },
  {
   "cell_type": "code",
   "execution_count": 51,
   "id": "0c2ec474-a0b5-4338-b667-26e4fc37f008",
   "metadata": {},
   "outputs": [
    {
     "name": "stdout",
     "output_type": "stream",
     "text": [
      "apple 100 calories\n",
      "banana 150 calories\n"
     ]
    }
   ],
   "source": [
    "for fruit in fruitList:\n",
    "    print(fruit.info())"
   ]
  },
  {
   "cell_type": "markdown",
   "id": "166cb8ce-fef5-4ebd-b0ec-b91fa59e3c92",
   "metadata": {},
   "source": [
    "Encapsulation"
   ]
  },
  {
   "cell_type": "code",
   "execution_count": 97,
   "id": "f0714812-292a-450c-a086-08d10b9e0486",
   "metadata": {},
   "outputs": [],
   "source": [
    "class Phone():\n",
    "    name = \"\"\n",
    "    __price = 0\n",
    "    \n",
    "    def __init__(self, name, price):\n",
    "        self.name = name\n",
    "        self.__price = price\n",
    "\n",
    "    def info(self):\n",
    "        return f\"{self.name} price is: {self.__price} US Dollar\"\n",
    "\n",
    "    def changePrice(self, price):\n",
    "        self.__price = price\n",
    "        "
   ]
  },
  {
   "cell_type": "code",
   "execution_count": 98,
   "id": "e5fc76f3-25be-4eef-abb7-98c563f33a20",
   "metadata": {},
   "outputs": [],
   "source": [
    "iphone = Phone(\"iPhone 14\", 400)"
   ]
  },
  {
   "cell_type": "code",
   "execution_count": 99,
   "id": "60f476e7-ea56-4bc4-8533-f9ec9ce82878",
   "metadata": {},
   "outputs": [
    {
     "data": {
      "text/plain": [
       "'iPhone 14 price is: 400 US Dollar'"
      ]
     },
     "execution_count": 99,
     "metadata": {},
     "output_type": "execute_result"
    }
   ],
   "source": [
    "iphone.info()"
   ]
  },
  {
   "cell_type": "code",
   "execution_count": 100,
   "id": "d50cf7f5-b764-49d4-8435-45d5c6f98528",
   "metadata": {},
   "outputs": [],
   "source": [
    "iphone.price = 300"
   ]
  },
  {
   "cell_type": "code",
   "execution_count": 102,
   "id": "48bdedd9-bdc3-4c32-ae09-104460f57a3d",
   "metadata": {},
   "outputs": [],
   "source": [
    "iphone.__price = 200"
   ]
  },
  {
   "cell_type": "code",
   "execution_count": 103,
   "id": "22240cbc-9b0d-4beb-9493-76b090789875",
   "metadata": {},
   "outputs": [
    {
     "data": {
      "text/plain": [
       "'iPhone 14 price is: 400 US Dollar'"
      ]
     },
     "execution_count": 103,
     "metadata": {},
     "output_type": "execute_result"
    }
   ],
   "source": [
    "iphone.info()"
   ]
  },
  {
   "cell_type": "code",
   "execution_count": 104,
   "id": "0aac6e54-3e7a-4102-b90f-a9b46f4c473b",
   "metadata": {},
   "outputs": [],
   "source": [
    "iphone.changePrice(600)"
   ]
  },
  {
   "cell_type": "code",
   "execution_count": 105,
   "id": "d050e9a2-10f2-45c4-8d3c-47e18ad854d5",
   "metadata": {},
   "outputs": [
    {
     "data": {
      "text/plain": [
       "'iPhone 14 price is: 600 US Dollar'"
      ]
     },
     "execution_count": 105,
     "metadata": {},
     "output_type": "execute_result"
    }
   ],
   "source": [
    "iphone.info()"
   ]
  },
  {
   "cell_type": "markdown",
   "id": "ba542833-a6a9-40b8-8b9a-ca20154ad927",
   "metadata": {},
   "source": [
    "Abstraction"
   ]
  },
  {
   "cell_type": "code",
   "execution_count": 1,
   "id": "c8abe8f2-1ded-4e86-a295-af9642fb4bc6",
   "metadata": {},
   "outputs": [],
   "source": [
    "from abc import ABC, abstractmethod"
   ]
  },
  {
   "cell_type": "code",
   "execution_count": 2,
   "id": "1ac135f2-0156-4a19-b521-aa8b0277990e",
   "metadata": {},
   "outputs": [],
   "source": [
    "class Car(ABC):\n",
    "    \n",
    "    @abstractmethod\n",
    "    def maxSpeed(self):\n",
    "        pass"
   ]
  },
  {
   "cell_type": "code",
   "execution_count": 6,
   "id": "9d1755dd-a3ff-4313-87de-76e4f88920fe",
   "metadata": {},
   "outputs": [],
   "source": [
    "class Mercedes(Car):\n",
    "\n",
    "    def maxSpeed(self):\n",
    "        print(\"250 km\")"
   ]
  },
  {
   "cell_type": "code",
   "execution_count": 7,
   "id": "0a184ba1-df47-4a9b-b9d3-1f213c0984e5",
   "metadata": {},
   "outputs": [],
   "source": [
    "mercedes = Mercedes()"
   ]
  },
  {
   "cell_type": "code",
   "execution_count": 8,
   "id": "051b5928-5a8d-450c-96cb-41fcad1d162c",
   "metadata": {},
   "outputs": [
    {
     "name": "stdout",
     "output_type": "stream",
     "text": [
      "250 km\n"
     ]
    }
   ],
   "source": [
    "mercedes.maxSpeed()"
   ]
  },
  {
   "cell_type": "code",
   "execution_count": 9,
   "id": "b8611979-64da-4018-8396-c3cb6a321725",
   "metadata": {},
   "outputs": [],
   "source": [
    "class Bmw(Car):\n",
    "\n",
    "    def maxSpeed(self):\n",
    "        print(\"300 km\")"
   ]
  },
  {
   "cell_type": "code",
   "execution_count": 10,
   "id": "c132f5a9-351e-490a-a3dc-86ae579e96c2",
   "metadata": {},
   "outputs": [],
   "source": [
    "bmw = Bmw()"
   ]
  },
  {
   "cell_type": "code",
   "execution_count": 11,
   "id": "32fd50eb-e90b-4ff0-b61d-34b38e86dd88",
   "metadata": {},
   "outputs": [
    {
     "name": "stdout",
     "output_type": "stream",
     "text": [
      "300 km\n"
     ]
    }
   ],
   "source": [
    "bmw.maxSpeed()"
   ]
  },
  {
   "cell_type": "code",
   "execution_count": null,
   "id": "e7f3fb61-2d2e-4844-ab89-5f769602cf20",
   "metadata": {},
   "outputs": [],
   "source": []
  }
 ],
 "metadata": {
  "kernelspec": {
   "display_name": "Python 3 (ipykernel)",
   "language": "python",
   "name": "python3"
  },
  "language_info": {
   "codemirror_mode": {
    "name": "ipython",
    "version": 3
   },
   "file_extension": ".py",
   "mimetype": "text/x-python",
   "name": "python",
   "nbconvert_exporter": "python",
   "pygments_lexer": "ipython3",
   "version": "3.13.5"
  }
 },
 "nbformat": 4,
 "nbformat_minor": 5
}
