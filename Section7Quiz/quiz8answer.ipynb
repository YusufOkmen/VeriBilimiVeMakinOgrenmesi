{
 "cells": [
  {
   "cell_type": "code",
   "execution_count": 1,
   "id": "a7e4e998-d1ba-461e-b6de-74a90ffdabcf",
   "metadata": {},
   "outputs": [],
   "source": [
    "#Answer-1"
   ]
  },
  {
   "cell_type": "code",
   "execution_count": 4,
   "id": "3129c0e9-56f9-4f97-8187-5dc32caabe95",
   "metadata": {},
   "outputs": [],
   "source": [
    "my_string = \"Python Öğreniyorum\""
   ]
  },
  {
   "cell_type": "code",
   "execution_count": 5,
   "id": "4c8d1fd5-07da-4adc-aa42-d8181d9ffb7d",
   "metadata": {},
   "outputs": [
    {
     "name": "stdout",
     "output_type": "stream",
     "text": [
      "n\n"
     ]
    }
   ],
   "source": [
    "numberFive = my_string[5]"
   ]
  },
  {
   "cell_type": "code",
   "execution_count": 6,
   "id": "a1c712db-a110-4043-a577-7bf67615863b",
   "metadata": {},
   "outputs": [
    {
     "name": "stdout",
     "output_type": "stream",
     "text": [
      "n\n"
     ]
    }
   ],
   "source": [
    "print(numberFive)"
   ]
  },
  {
   "cell_type": "code",
   "execution_count": null,
   "id": "5093d94e-aeda-4356-831d-be70ac96794d",
   "metadata": {},
   "outputs": [],
   "source": [
    "#Answer-2"
   ]
  },
  {
   "cell_type": "code",
   "execution_count": 7,
   "id": "f93ba62c-79e9-464d-a811-a71ffe1d2d34",
   "metadata": {},
   "outputs": [],
   "source": [
    "my_new_string = \"ProgramlamayaMerhabaDedik\""
   ]
  },
  {
   "cell_type": "code",
   "execution_count": 9,
   "id": "da8886a1-4f01-4499-bda8-0dbedb02cb59",
   "metadata": {},
   "outputs": [],
   "source": [
    "answer1 = my_new_string[5:8]"
   ]
  },
  {
   "cell_type": "code",
   "execution_count": 10,
   "id": "14c9a62a-765d-4f45-b835-a277791059b3",
   "metadata": {},
   "outputs": [
    {
     "name": "stdout",
     "output_type": "stream",
     "text": [
      "aml\n"
     ]
    }
   ],
   "source": [
    "print(answer1)"
   ]
  },
  {
   "cell_type": "code",
   "execution_count": 11,
   "id": "73073e0d-da51-45fd-8f26-997e3267cbb1",
   "metadata": {},
   "outputs": [],
   "source": [
    "#Answer-3"
   ]
  },
  {
   "cell_type": "code",
   "execution_count": 15,
   "id": "cc616222-4270-4ee3-9b40-f500092fa18b",
   "metadata": {},
   "outputs": [],
   "source": [
    "#Answer-4"
   ]
  },
  {
   "cell_type": "code",
   "execution_count": 12,
   "id": "d58e5b24-24bc-4435-a5ee-7d7d3c1b33c1",
   "metadata": {},
   "outputs": [],
   "source": [
    "my_last_string = \"Afyonkarahisarlilastiramadiklarimizdanmisiniz\""
   ]
  },
  {
   "cell_type": "code",
   "execution_count": 13,
   "id": "5b3abd8e-5517-4de6-a3f4-d04abadad219",
   "metadata": {},
   "outputs": [],
   "source": [
    "answer2 = my_last_string[::-1]"
   ]
  },
  {
   "cell_type": "code",
   "execution_count": 14,
   "id": "a6af6e7f-ad19-40a6-b7d8-32691d93cbfe",
   "metadata": {},
   "outputs": [
    {
     "name": "stdout",
     "output_type": "stream",
     "text": [
      "zinisimnadzimiralkidamaritsalilrasiharaknoyfA\n"
     ]
    }
   ],
   "source": [
    "print(answer2)"
   ]
  },
  {
   "cell_type": "code",
   "execution_count": 16,
   "id": "2af98f5a-7f9c-4f48-b5dd-82dccd7237a0",
   "metadata": {},
   "outputs": [],
   "source": [
    "number = 4 + 12.2 + 48"
   ]
  },
  {
   "cell_type": "code",
   "execution_count": 17,
   "id": "cb6030cd-c91a-432f-a0b7-519564ac6c45",
   "metadata": {},
   "outputs": [],
   "source": [
    "answer3 = type(number)"
   ]
  },
  {
   "cell_type": "code",
   "execution_count": 19,
   "id": "8c8725a6-5ade-4740-8d06-309d3e8dcd39",
   "metadata": {},
   "outputs": [
    {
     "name": "stdout",
     "output_type": "stream",
     "text": [
      "<class 'float'>\n"
     ]
    }
   ],
   "source": [
    "print(answer3)"
   ]
  },
  {
   "cell_type": "code",
   "execution_count": 20,
   "id": "465f8133-33db-49f8-90c9-bb40306a3929",
   "metadata": {},
   "outputs": [],
   "source": [
    "#Answer-5"
   ]
  },
  {
   "cell_type": "code",
   "execution_count": 21,
   "id": "347cece3-7264-4e11-91ff-dd9b4f74f99f",
   "metadata": {},
   "outputs": [],
   "source": [
    "number = 5 + 7 * 12"
   ]
  },
  {
   "cell_type": "code",
   "execution_count": 22,
   "id": "1b748354-cb54-4175-b795-103c1b6cf8b4",
   "metadata": {},
   "outputs": [
    {
     "name": "stdout",
     "output_type": "stream",
     "text": [
      "89\n"
     ]
    }
   ],
   "source": [
    "print(number)"
   ]
  },
  {
   "cell_type": "code",
   "execution_count": 23,
   "id": "161ee165-7a23-4e67-a345-efe2291e06a9",
   "metadata": {},
   "outputs": [],
   "source": [
    "#Answer-6"
   ]
  },
  {
   "cell_type": "code",
   "execution_count": 24,
   "id": "d8464481-a35a-4e6e-8ff2-a62f3344e027",
   "metadata": {},
   "outputs": [],
   "source": [
    "myList1 = [1, 3, \"a\"]"
   ]
  },
  {
   "cell_type": "code",
   "execution_count": 28,
   "id": "2388bc16-e36c-4b60-ac34-179fc1d8bc61",
   "metadata": {},
   "outputs": [],
   "source": [
    "myList2 = []\n",
    "myList2.append(1)\n",
    "myList2.append(3)\n",
    "myList2.append(\"a\")"
   ]
  },
  {
   "cell_type": "code",
   "execution_count": 29,
   "id": "4dc5669d-522d-497f-b4d0-d2d24c0ed2c7",
   "metadata": {},
   "outputs": [
    {
     "name": "stdout",
     "output_type": "stream",
     "text": [
      "[1, 3, 'a'] [1, 3, 'a']\n"
     ]
    }
   ],
   "source": [
    "print(myList1, myList2)"
   ]
  },
  {
   "cell_type": "code",
   "execution_count": 30,
   "id": "1720dc6e-deaa-4d90-b11f-941fab8b12bd",
   "metadata": {},
   "outputs": [],
   "source": [
    "#Answer-7"
   ]
  },
  {
   "cell_type": "code",
   "execution_count": 31,
   "id": "49570182-c9ca-4b4e-b0a0-d2cdce7d1d6c",
   "metadata": {},
   "outputs": [],
   "source": [
    "my_list = [3.14,4,[2,3,\"b\"],True]"
   ]
  },
  {
   "cell_type": "code",
   "execution_count": 35,
   "id": "1d3a38b8-72ee-4873-9fa4-017e11f1d4e7",
   "metadata": {},
   "outputs": [],
   "source": [
    "answer4 = my_list[2][2]"
   ]
  },
  {
   "cell_type": "code",
   "execution_count": 36,
   "id": "24f93446-e9aa-472f-94a8-bd8b92ecc0f7",
   "metadata": {},
   "outputs": [
    {
     "name": "stdout",
     "output_type": "stream",
     "text": [
      "b\n"
     ]
    }
   ],
   "source": [
    "print(answer4)"
   ]
  },
  {
   "cell_type": "code",
   "execution_count": 37,
   "id": "bbdb510c-6b1d-4b04-aa0d-33a1cfee953d",
   "metadata": {},
   "outputs": [],
   "source": [
    "#Answer-8"
   ]
  },
  {
   "cell_type": "code",
   "execution_count": 38,
   "id": "17ad343d-b2b7-4640-b684-e5913ca488dd",
   "metadata": {},
   "outputs": [],
   "source": [
    "my_dictionary = {\"key1\":20.25, \"kk2\":[40,{\"k21\":\"a\"}]}"
   ]
  },
  {
   "cell_type": "code",
   "execution_count": 40,
   "id": "a0fe7026-c5ab-4524-bf79-9e9659891589",
   "metadata": {},
   "outputs": [],
   "source": [
    "answer5 = my_dictionary[\"kk2\"][1][\"k21\"]"
   ]
  },
  {
   "cell_type": "code",
   "execution_count": 41,
   "id": "5b53c433-c34c-4f8c-8202-8ad488eb5cf2",
   "metadata": {},
   "outputs": [
    {
     "name": "stdout",
     "output_type": "stream",
     "text": [
      "a\n"
     ]
    }
   ],
   "source": [
    "print(answer5)"
   ]
  },
  {
   "cell_type": "code",
   "execution_count": 42,
   "id": "927550b0-f235-4371-ac6f-494490ff9f08",
   "metadata": {},
   "outputs": [],
   "source": [
    "#Answer-9"
   ]
  },
  {
   "cell_type": "code",
   "execution_count": 43,
   "id": "d1678b56-9146-4d05-a4ad-3279427384c1",
   "metadata": {},
   "outputs": [],
   "source": [
    "my_list_to_be_set = [3,4,9,3,21,22,4,3,9,10,21,22]"
   ]
  },
  {
   "cell_type": "code",
   "execution_count": 49,
   "id": "562d4aec-2830-4faa-83dd-ba456a726b13",
   "metadata": {},
   "outputs": [],
   "source": [
    "answer6 = set(my_list_to_be_set)"
   ]
  },
  {
   "cell_type": "code",
   "execution_count": 50,
   "id": "b83bb22e-6d29-4cf7-9d88-a48db5f8f4cf",
   "metadata": {},
   "outputs": [
    {
     "name": "stdout",
     "output_type": "stream",
     "text": [
      "{3, 4, 9, 10, 21, 22}\n"
     ]
    }
   ],
   "source": [
    "print(answer6)"
   ]
  },
  {
   "cell_type": "code",
   "execution_count": 51,
   "id": "c970ad54-ef08-4fbf-969e-7b284bb0032c",
   "metadata": {},
   "outputs": [],
   "source": [
    "#Answer-10"
   ]
  },
  {
   "cell_type": "code",
   "execution_count": null,
   "id": "97156c52-f595-44a8-b270-37667ee94318",
   "metadata": {},
   "outputs": [],
   "source": []
  }
 ],
 "metadata": {
  "kernelspec": {
   "display_name": "Python 3 (ipykernel)",
   "language": "python",
   "name": "python3"
  },
  "language_info": {
   "codemirror_mode": {
    "name": "ipython",
    "version": 3
   },
   "file_extension": ".py",
   "mimetype": "text/x-python",
   "name": "python",
   "nbconvert_exporter": "python",
   "pygments_lexer": "ipython3",
   "version": "3.13.5"
  }
 },
 "nbformat": 4,
 "nbformat_minor": 5
}
