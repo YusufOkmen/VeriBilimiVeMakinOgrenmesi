{
 "cells": [
  {
   "cell_type": "code",
   "execution_count": 34,
   "id": "32a5d34a-cc01-4304-b88e-cf4219da283a",
   "metadata": {},
   "outputs": [],
   "source": [
    "class Person():\n",
    "    #property\n",
    "    name = \"\"\n",
    "    age = 0\n",
    "    gender = \"\"\n",
    "    job = \"\"\n",
    "    \n",
    "    #initializer method\n",
    "    def __init__(self, name, age, gender):\n",
    "        self.name = name\n",
    "        self.age = age\n",
    "        self.gender = gender\n",
    "\n",
    "    #Bir classın içindeki methodlara her durumda self parametresini vermek zorundayız. Sınıfımızın propertylerine ulaşmak için.\n",
    "    #method \n",
    "    def test(self):\n",
    "        print(\"Test 1,2\")"
   ]
  },
  {
   "cell_type": "code",
   "execution_count": 35,
   "id": "7a33d147-4b42-4637-abcb-15adc48b164b",
   "metadata": {},
   "outputs": [],
   "source": [
    "yusuf = Person(\"Yusuf\", 19, \"Male\")"
   ]
  },
  {
   "cell_type": "code",
   "execution_count": 36,
   "id": "1dc4f6f7-91b4-4547-be38-c28181045ce5",
   "metadata": {},
   "outputs": [],
   "source": [
    "Abdullah = Person(\"Abdullah\", 16, \"Male\")"
   ]
  },
  {
   "cell_type": "code",
   "execution_count": 37,
   "id": "f8037b1a-86b2-40bf-907c-0e00fd97451a",
   "metadata": {},
   "outputs": [
    {
     "data": {
      "text/plain": [
       "'Yusuf'"
      ]
     },
     "execution_count": 37,
     "metadata": {},
     "output_type": "execute_result"
    }
   ],
   "source": [
    "yusuf.name"
   ]
  },
  {
   "cell_type": "code",
   "execution_count": 38,
   "id": "6eb7e846-9162-4b16-b951-ed49b3821c45",
   "metadata": {},
   "outputs": [
    {
     "name": "stdout",
     "output_type": "stream",
     "text": [
      "Test 1,2\n"
     ]
    }
   ],
   "source": [
    "yusuf.test()"
   ]
  },
  {
   "cell_type": "code",
   "execution_count": 39,
   "id": "82316365-5c88-4adb-8056-d2d7a7308ba0",
   "metadata": {},
   "outputs": [],
   "source": [
    "yusuf.job = \"Developer\""
   ]
  },
  {
   "cell_type": "code",
   "execution_count": 40,
   "id": "6e5e1301-3c86-407f-add0-27003df416c5",
   "metadata": {},
   "outputs": [
    {
     "data": {
      "text/plain": [
       "'Developer'"
      ]
     },
     "execution_count": 40,
     "metadata": {},
     "output_type": "execute_result"
    }
   ],
   "source": [
    "yusuf.job"
   ]
  },
  {
   "cell_type": "code",
   "execution_count": 42,
   "id": "41140b82-4257-4832-b2a4-57c4f98fc5b1",
   "metadata": {},
   "outputs": [],
   "source": [
    "#New Class"
   ]
  },
  {
   "cell_type": "code",
   "execution_count": 62,
   "id": "7d36e2ec-ea0b-4e17-baaf-eb064ed96bd4",
   "metadata": {},
   "outputs": [],
   "source": [
    "class Dog():\n",
    "    #Properties\n",
    "    age = 0\n",
    "    humanYear = 7\n",
    "\n",
    "    #initializer method\n",
    "    def __init__(self, age=6):\n",
    "        self.age = age\n",
    "        self.dogHumanAge = age * self.humanYear\n",
    "\n",
    "    #method\n",
    "    def inHumanAge(self):\n",
    "        ageToHuman = self.age * self.humanYear # Dog.humanYear = self.humanYear\n",
    "        print(f\"This dog is {ageToHuman} years old in human age\")"
   ]
  },
  {
   "cell_type": "code",
   "execution_count": 63,
   "id": "b44cc69f-f0c4-4a6d-8172-889fda11a64c",
   "metadata": {},
   "outputs": [],
   "source": [
    "myDog = Dog(5)"
   ]
  },
  {
   "cell_type": "code",
   "execution_count": 64,
   "id": "d1a76145-f829-41d9-b95a-6e63a1d13baa",
   "metadata": {},
   "outputs": [
    {
     "data": {
      "text/plain": [
       "5"
      ]
     },
     "execution_count": 64,
     "metadata": {},
     "output_type": "execute_result"
    }
   ],
   "source": [
    "myDog.age"
   ]
  },
  {
   "cell_type": "code",
   "execution_count": 65,
   "id": "5d61194d-c087-436d-9c39-5f11325ba539",
   "metadata": {},
   "outputs": [
    {
     "name": "stdout",
     "output_type": "stream",
     "text": [
      "This dog is 35 years old in human age\n"
     ]
    }
   ],
   "source": [
    "myDog.inHumanAge()"
   ]
  },
  {
   "cell_type": "code",
   "execution_count": 66,
   "id": "b302dd4b-1300-4e98-8d39-f46c81a958cb",
   "metadata": {},
   "outputs": [
    {
     "data": {
      "text/plain": [
       "35"
      ]
     },
     "execution_count": 66,
     "metadata": {},
     "output_type": "execute_result"
    }
   ],
   "source": [
    "myDog.dogHumanAge"
   ]
  },
  {
   "cell_type": "code",
   "execution_count": 67,
   "id": "3dd23313-04b9-4b57-a335-7b18890d6aa0",
   "metadata": {},
   "outputs": [],
   "source": [
    "yourDog = Dog()"
   ]
  },
  {
   "cell_type": "code",
   "execution_count": 68,
   "id": "be74b4cd-7364-4a7d-9462-2858a0a56aa3",
   "metadata": {},
   "outputs": [
    {
     "data": {
      "text/plain": [
       "6"
      ]
     },
     "execution_count": 68,
     "metadata": {},
     "output_type": "execute_result"
    }
   ],
   "source": [
    "yourDog.age"
   ]
  },
  {
   "cell_type": "code",
   "execution_count": 69,
   "id": "2e8425ef-85df-48ec-b937-0853c927f016",
   "metadata": {},
   "outputs": [
    {
     "data": {
      "text/plain": [
       "42"
      ]
     },
     "execution_count": 69,
     "metadata": {},
     "output_type": "execute_result"
    }
   ],
   "source": [
    "yourDog.dogHumanAge"
   ]
  },
  {
   "cell_type": "code",
   "execution_count": 70,
   "id": "63856e22-2fec-4cc5-9ce7-4194d1e1df51",
   "metadata": {},
   "outputs": [
    {
     "name": "stdout",
     "output_type": "stream",
     "text": [
      "This dog is 42 years old in human age\n"
     ]
    }
   ],
   "source": [
    "yourDog.inHumanAge()"
   ]
  },
  {
   "cell_type": "code",
   "execution_count": null,
   "id": "46bd448a-6d75-4090-80d0-cd3c347ed9bc",
   "metadata": {},
   "outputs": [],
   "source": []
  }
 ],
 "metadata": {
  "kernelspec": {
   "display_name": "Python 3 (ipykernel)",
   "language": "python",
   "name": "python3"
  },
  "language_info": {
   "codemirror_mode": {
    "name": "ipython",
    "version": 3
   },
   "file_extension": ".py",
   "mimetype": "text/x-python",
   "name": "python",
   "nbconvert_exporter": "python",
   "pygments_lexer": "ipython3",
   "version": "3.13.5"
  }
 },
 "nbformat": 4,
 "nbformat_minor": 5
}
