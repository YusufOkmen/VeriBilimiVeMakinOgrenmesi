{
 "cells": [
  {
   "cell_type": "code",
   "execution_count": 1,
   "id": "32213933-1f87-40ee-87bb-14049a0579af",
   "metadata": {},
   "outputs": [],
   "source": [
    "#Answer-1"
   ]
  },
  {
   "cell_type": "code",
   "execution_count": 2,
   "id": "b06d8688-2f4f-455a-8375-7bd70a725b91",
   "metadata": {},
   "outputs": [],
   "source": [
    "x = 5\n",
    "y = 3\n",
    "z = 6"
   ]
  },
  {
   "cell_type": "code",
   "execution_count": 5,
   "id": "616afc7d-9ef9-4848-8693-20fc7b3ed9f8",
   "metadata": {},
   "outputs": [
    {
     "name": "stdout",
     "output_type": "stream",
     "text": [
      "True\n"
     ]
    }
   ],
   "source": [
    "print(x>y and z>x)"
   ]
  },
  {
   "cell_type": "code",
   "execution_count": 6,
   "id": "1b847653-7e47-4ff7-9d0b-66d4bde44c87",
   "metadata": {},
   "outputs": [],
   "source": [
    "#Answer-2"
   ]
  },
  {
   "cell_type": "code",
   "execution_count": 7,
   "id": "653fc557-4f96-46c6-9376-fbd05ffcd49e",
   "metadata": {},
   "outputs": [
    {
     "name": "stdout",
     "output_type": "stream",
     "text": [
      "True\n"
     ]
    }
   ],
   "source": [
    "print(x < y or z > y)"
   ]
  },
  {
   "cell_type": "code",
   "execution_count": 8,
   "id": "07791451-92ff-44d4-9606-530bf63cc133",
   "metadata": {},
   "outputs": [],
   "source": [
    "#Answer-3"
   ]
  },
  {
   "cell_type": "code",
   "execution_count": 9,
   "id": "af830bae-440d-4e6b-8d5a-0d72975cb311",
   "metadata": {},
   "outputs": [
    {
     "name": "stdout",
     "output_type": "stream",
     "text": [
      "18 ile 30 yaş arasında bir gençsiniz\n"
     ]
    }
   ],
   "source": [
    "yas = 20\n",
    "\n",
    "if yas < 18:\n",
    "    print(\"18 yaşından küçüksünüz\")\n",
    "elif yas >= 18 and yas < 30:\n",
    "    print(\"18 ile 30 yaş arasında bir gençsiniz\")\n",
    "elif yas >= 30 and yas < 40:\n",
    "    print(\"30 ve 40 arasına gelmişsiniz\")\n",
    "else:\n",
    "    print(\"40 yaşından daha büyüksünüz\")"
   ]
  },
  {
   "cell_type": "code",
   "execution_count": 10,
   "id": "9d805206-f55a-4833-8e00-fdea7158e1c3",
   "metadata": {},
   "outputs": [],
   "source": [
    "#Answer-4"
   ]
  },
  {
   "cell_type": "code",
   "execution_count": 11,
   "id": "0e895bf0-deb1-4dd1-8174-d7058ea19fc0",
   "metadata": {},
   "outputs": [],
   "source": [
    "my_dictionary = {\"k1\":10,\"k2k\":\"a\",\"k32\":30,\"k4\":\"c\"}"
   ]
  },
  {
   "cell_type": "code",
   "execution_count": 13,
   "id": "812c645f-c61c-4f3b-88dc-db838ff50366",
   "metadata": {},
   "outputs": [
    {
     "name": "stdout",
     "output_type": "stream",
     "text": [
      "c karakteri bulunamadı\n",
      "c karakteri bulunamadı\n",
      "c karakteri bulunamadı\n",
      "c karakteri bulundu\n"
     ]
    }
   ],
   "source": [
    "for key, value in my_dictionary.items():\n",
    "    if value == \"c\":\n",
    "        print(\"c karakteri bulundu\")\n",
    "    else:\n",
    "        print(\"c karakteri bulunamadı\")"
   ]
  },
  {
   "cell_type": "code",
   "execution_count": null,
   "id": "d5596e4e-bc06-40fa-8fb2-75cf2ffb1929",
   "metadata": {},
   "outputs": [],
   "source": [
    "#Answer-5"
   ]
  },
  {
   "cell_type": "code",
   "execution_count": 14,
   "id": "a751ee09-e03b-4110-aed2-d12dfbf83f2f",
   "metadata": {},
   "outputs": [],
   "source": [
    "my_other_dictionary = {\"b\":203,\"c\":\"a\",\"a\":400,\"d\":\"f\"}"
   ]
  },
  {
   "cell_type": "code",
   "execution_count": 15,
   "id": "1e2d4bf2-4010-4b5a-882c-5f03cfe19fd9",
   "metadata": {},
   "outputs": [
    {
     "name": "stdout",
     "output_type": "stream",
     "text": [
      "a karakteri bulunamadı\n",
      "a karakteri bulundu\n",
      "a karakteri bulunamadı\n",
      "a karakteri bulunamadı\n"
     ]
    }
   ],
   "source": [
    "for key, value in my_other_dictionary.items():\n",
    "    if value == \"a\":\n",
    "        print(\"a karakteri bulundu\")\n",
    "    else:\n",
    "        print(\"a karakteri bulunamadı\")"
   ]
  },
  {
   "cell_type": "code",
   "execution_count": 16,
   "id": "1d32d74a-5b84-4ad2-956a-645eee7378fd",
   "metadata": {},
   "outputs": [],
   "source": [
    "#Answer-6"
   ]
  },
  {
   "cell_type": "code",
   "execution_count": 17,
   "id": "8e08eb5b-09f9-489c-a4a9-bca7099529a3",
   "metadata": {},
   "outputs": [],
   "source": [
    "my_numbers = [1,2,3,4,5,6,19,20,32,21,20,1111,23,24]"
   ]
  },
  {
   "cell_type": "code",
   "execution_count": 18,
   "id": "31d9374e-d353-41c3-86d8-e6f7d8a39253",
   "metadata": {},
   "outputs": [
    {
     "name": "stdout",
     "output_type": "stream",
     "text": [
      "2\n",
      "4\n",
      "6\n",
      "20\n",
      "32\n",
      "20\n",
      "24\n"
     ]
    }
   ],
   "source": [
    "for number in my_numbers:\n",
    "    if number%2 == 0:\n",
    "        print(number)\n",
    "    else:\n",
    "        continue"
   ]
  },
  {
   "cell_type": "code",
   "execution_count": 19,
   "id": "182b4e4c-97fd-4072-aaf4-701c806c11bc",
   "metadata": {},
   "outputs": [],
   "source": [
    "#Answer-7"
   ]
  },
  {
   "cell_type": "code",
   "execution_count": 21,
   "id": "3f0ba2ea-e4da-416a-a53b-d2f8024fe512",
   "metadata": {},
   "outputs": [],
   "source": [
    "r_list = [3,2,5,8,4,6,9,12]\n",
    "pi = 3.14"
   ]
  },
  {
   "cell_type": "code",
   "execution_count": 23,
   "id": "60db27c8-6783-4f21-b46e-2b5d2444c176",
   "metadata": {},
   "outputs": [
    {
     "name": "stdout",
     "output_type": "stream",
     "text": [
      "yarı çapı 3 olan bir dairenin çevresi 18.84 dir.\n",
      "yarı çapı 2 olan bir dairenin çevresi 12.56 dir.\n",
      "yarı çapı 5 olan bir dairenin çevresi 31.400000000000002 dir.\n",
      "yarı çapı 8 olan bir dairenin çevresi 50.24 dir.\n",
      "yarı çapı 4 olan bir dairenin çevresi 25.12 dir.\n",
      "yarı çapı 6 olan bir dairenin çevresi 37.68 dir.\n",
      "yarı çapı 9 olan bir dairenin çevresi 56.52 dir.\n",
      "yarı çapı 12 olan bir dairenin çevresi 75.36 dir.\n"
     ]
    }
   ],
   "source": [
    "for r in r_list:\n",
    "    daireCevre = 2 * pi * r\n",
    "    print(f\"yarı çapı {r} olan bir dairenin çevresi {daireCevre} dir.\")"
   ]
  },
  {
   "cell_type": "code",
   "execution_count": 24,
   "id": "01c26c34-57aa-472e-b069-331e08590d23",
   "metadata": {},
   "outputs": [],
   "source": [
    "#Answer-8"
   ]
  },
  {
   "cell_type": "code",
   "execution_count": 25,
   "id": "73707b02-bb1a-446a-8d8c-6a41588f7139",
   "metadata": {},
   "outputs": [],
   "source": [
    "age_name_list = [(\"Ahmet\",30),(\"Ayse\",24),(\"Mehmet\",40),(\"Fatma\",29)]"
   ]
  },
  {
   "cell_type": "code",
   "execution_count": 26,
   "id": "93d25071-acaa-477f-a5ba-c7581735dd1e",
   "metadata": {},
   "outputs": [],
   "source": [
    "only_age_list = []"
   ]
  },
  {
   "cell_type": "code",
   "execution_count": 27,
   "id": "2d4be535-8180-4399-9422-16d7d4102c52",
   "metadata": {},
   "outputs": [],
   "source": [
    "for person in age_name_list:\n",
    "    only_age_list.append(person[1])"
   ]
  },
  {
   "cell_type": "code",
   "execution_count": 29,
   "id": "f76ffe16-91e5-4b6c-8b76-95386ef19b5e",
   "metadata": {},
   "outputs": [
    {
     "name": "stdout",
     "output_type": "stream",
     "text": [
      "[30, 24, 40, 29]\n"
     ]
    }
   ],
   "source": [
    "print(only_age_list)"
   ]
  },
  {
   "cell_type": "code",
   "execution_count": 30,
   "id": "b0bca1af-07c5-4b05-ab2c-e872819ca454",
   "metadata": {},
   "outputs": [],
   "source": [
    "#Answer-9"
   ]
  },
  {
   "cell_type": "code",
   "execution_count": 31,
   "id": "bba2b428-57df-4fc2-821a-0777bb26c176",
   "metadata": {},
   "outputs": [],
   "source": [
    "import random"
   ]
  },
  {
   "cell_type": "code",
   "execution_count": 75,
   "id": "e5742a62-b429-47d1-aac7-33de567ab733",
   "metadata": {},
   "outputs": [],
   "source": [
    "metal_list = [\"Metallica\",\"Iron Maiden\",\"Dream Theater\",\"Megadeth\",\"AC/DC\"]"
   ]
  },
  {
   "cell_type": "code",
   "execution_count": 76,
   "id": "ccde691f-e464-4a2f-bb4a-2203ef598e8c",
   "metadata": {},
   "outputs": [
    {
     "name": "stdout",
     "output_type": "stream",
     "text": [
      "1\n"
     ]
    }
   ],
   "source": [
    "num = random.randint(1, 5)\n",
    "print(num)"
   ]
  },
  {
   "cell_type": "code",
   "execution_count": 77,
   "id": "7c31353f-572c-47b0-8d90-61388845aeac",
   "metadata": {},
   "outputs": [
    {
     "name": "stdout",
     "output_type": "stream",
     "text": [
      "Metallica\n"
     ]
    }
   ],
   "source": [
    "if num == 1:\n",
    "    print(metal_list[0])\n",
    "elif num == 2:\n",
    "    print(metal_list[1])\n",
    "elif num == 3:\n",
    "    print(metal_list[2])\n",
    "elif num == 4:\n",
    "    print(metal_list[3])\n",
    "elif num == 5:\n",
    "    print(metal_list[4])"
   ]
  },
  {
   "cell_type": "code",
   "execution_count": 78,
   "id": "45567ce4-271a-404a-af5c-f1983e33a29d",
   "metadata": {},
   "outputs": [],
   "source": [
    "#Answer-10"
   ]
  },
  {
   "cell_type": "code",
   "execution_count": 79,
   "id": "f6e6dab2-8776-4a23-b95b-b4586aefcb47",
   "metadata": {},
   "outputs": [],
   "source": [
    "number_list = [5,7,18,21,20,10,405,24]"
   ]
  },
  {
   "cell_type": "code",
   "execution_count": 82,
   "id": "37505c2b-9750-48f4-8af5-826e405637b7",
   "metadata": {},
   "outputs": [
    {
     "name": "stdout",
     "output_type": "stream",
     "text": [
      "[False, False, True, False, True, True, False, True]\n"
     ]
    }
   ],
   "source": [
    "print([num % 2 == 0 for num in number_list])"
   ]
  },
  {
   "cell_type": "code",
   "execution_count": null,
   "id": "279a5b8c-88d4-48be-9165-5384abc4c196",
   "metadata": {},
   "outputs": [],
   "source": []
  }
 ],
 "metadata": {
  "kernelspec": {
   "display_name": "Python 3 (ipykernel)",
   "language": "python",
   "name": "python3"
  },
  "language_info": {
   "codemirror_mode": {
    "name": "ipython",
    "version": 3
   },
   "file_extension": ".py",
   "mimetype": "text/x-python",
   "name": "python",
   "nbconvert_exporter": "python",
   "pygments_lexer": "ipython3",
   "version": "3.13.5"
  }
 },
 "nbformat": 4,
 "nbformat_minor": 5
}
